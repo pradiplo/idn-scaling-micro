{
 "cells": [
  {
   "cell_type": "code",
   "execution_count": 1,
   "id": "6e6c28d7",
   "metadata": {},
   "outputs": [],
   "source": [
    "from preprocess import preProcess as pp\n",
    "import geopandas as gpd\n",
    "import matplotlib.pyplot as plt\n",
    "import warnings\n",
    "warnings.simplefilter(action='ignore')"
   ]
  },
  {
   "cell_type": "code",
   "execution_count": 2,
   "id": "66ea84cc",
   "metadata": {},
   "outputs": [
    {
     "name": "stdout",
     "output_type": "stream",
     "text": [
      "CPU times: user 780 ms, sys: 69.5 ms, total: 849 ms\n",
      "Wall time: 928 ms\n"
     ]
    }
   ],
   "source": [
    "#begi obtain cities \n",
    "%time cities=pp.obtainCityDf(\"Indonesia\")"
   ]
  },
  {
   "cell_type": "code",
   "execution_count": 3,
   "id": "0ef1feba",
   "metadata": {},
   "outputs": [],
   "source": [
    "cities_df, popDict, areaDict, aUCDict, aComDict=cities"
   ]
  },
  {
   "cell_type": "code",
   "execution_count": 4,
   "id": "da734f66",
   "metadata": {},
   "outputs": [
    {
     "data": {
      "text/plain": [
       "{4768.0: 56036.54037094116,\n",
       " 6773.0: 56090.59964752197,\n",
       " 6818.0: 56395.4094543457,\n",
       " 3498.0: 58665.77061462402,\n",
       " 7047.0: 63455.735834121704}"
      ]
     },
     "execution_count": 4,
     "metadata": {},
     "output_type": "execute_result"
    }
   ],
   "source": [
    "dict(list(popDict.items())[0:5])"
   ]
  },
  {
   "cell_type": "code",
   "execution_count": 5,
   "id": "c6cae29b",
   "metadata": {},
   "outputs": [
    {
     "data": {
      "text/html": [
       "<div>\n",
       "<style scoped>\n",
       "    .dataframe tbody tr th:only-of-type {\n",
       "        vertical-align: middle;\n",
       "    }\n",
       "\n",
       "    .dataframe tbody tr th {\n",
       "        vertical-align: top;\n",
       "    }\n",
       "\n",
       "    .dataframe thead th {\n",
       "        text-align: right;\n",
       "    }\n",
       "</style>\n",
       "<table border=\"1\" class=\"dataframe\">\n",
       "  <thead>\n",
       "    <tr style=\"text-align: right;\">\n",
       "      <th></th>\n",
       "      <th>eFUA_ID</th>\n",
       "      <th>UC_num</th>\n",
       "      <th>UC_IDs</th>\n",
       "      <th>eFUA_name</th>\n",
       "      <th>Commuting</th>\n",
       "      <th>Cntry_ISO</th>\n",
       "      <th>Cntry_name</th>\n",
       "      <th>FUA_area</th>\n",
       "      <th>UC_area</th>\n",
       "      <th>FUA_p_2015</th>\n",
       "      <th>UC_p_2015</th>\n",
       "      <th>Com_p_2015</th>\n",
       "      <th>geometry</th>\n",
       "      <th>Comm_area</th>\n",
       "    </tr>\n",
       "    <tr>\n",
       "      <th>eFUA_ID</th>\n",
       "      <th></th>\n",
       "      <th></th>\n",
       "      <th></th>\n",
       "      <th></th>\n",
       "      <th></th>\n",
       "      <th></th>\n",
       "      <th></th>\n",
       "      <th></th>\n",
       "      <th></th>\n",
       "      <th></th>\n",
       "      <th></th>\n",
       "      <th></th>\n",
       "      <th></th>\n",
       "      <th></th>\n",
       "    </tr>\n",
       "  </thead>\n",
       "  <tbody>\n",
       "    <tr>\n",
       "      <th>5487.0</th>\n",
       "      <td>5487.0</td>\n",
       "      <td>1.0</td>\n",
       "      <td>12212</td>\n",
       "      <td>Ciherang</td>\n",
       "      <td>1.0</td>\n",
       "      <td>IDN</td>\n",
       "      <td>Indonesia</td>\n",
       "      <td>73.0</td>\n",
       "      <td>27.0</td>\n",
       "      <td>129509.332935</td>\n",
       "      <td>101674.623260</td>\n",
       "      <td>27834.709675</td>\n",
       "      <td>MULTIPOLYGON (((108.59694 -7.45682, 108.62703 ...</td>\n",
       "      <td>46.0</td>\n",
       "    </tr>\n",
       "    <tr>\n",
       "      <th>7241.0</th>\n",
       "      <td>7241.0</td>\n",
       "      <td>1.0</td>\n",
       "      <td>13064</td>\n",
       "      <td>Asikie</td>\n",
       "      <td>0.0</td>\n",
       "      <td>IDN</td>\n",
       "      <td>Indonesia</td>\n",
       "      <td>2.0</td>\n",
       "      <td>2.0</td>\n",
       "      <td>79221.200928</td>\n",
       "      <td>79221.200928</td>\n",
       "      <td>0.000000</td>\n",
       "      <td>MULTIPOLYGON (((140.42281 -6.65380, 140.41279 ...</td>\n",
       "      <td>0.0</td>\n",
       "    </tr>\n",
       "    <tr>\n",
       "      <th>6209.0</th>\n",
       "      <td>6209.0</td>\n",
       "      <td>1.0</td>\n",
       "      <td>12531</td>\n",
       "      <td>Tulungagung</td>\n",
       "      <td>1.0</td>\n",
       "      <td>IDN</td>\n",
       "      <td>Indonesia</td>\n",
       "      <td>530.0</td>\n",
       "      <td>231.0</td>\n",
       "      <td>862261.121429</td>\n",
       "      <td>617340.153595</td>\n",
       "      <td>244920.967834</td>\n",
       "      <td>MULTIPOLYGON (((111.98999 -8.02495, 112.00003 ...</td>\n",
       "      <td>299.0</td>\n",
       "    </tr>\n",
       "  </tbody>\n",
       "</table>\n",
       "</div>"
      ],
      "text/plain": [
       "         eFUA_ID  UC_num UC_IDs    eFUA_name  Commuting Cntry_ISO Cntry_name  \\\n",
       "eFUA_ID                                                                        \n",
       "5487.0    5487.0     1.0  12212     Ciherang        1.0       IDN  Indonesia   \n",
       "7241.0    7241.0     1.0  13064       Asikie        0.0       IDN  Indonesia   \n",
       "6209.0    6209.0     1.0  12531  Tulungagung        1.0       IDN  Indonesia   \n",
       "\n",
       "         FUA_area  UC_area     FUA_p_2015      UC_p_2015     Com_p_2015  \\\n",
       "eFUA_ID                                                                   \n",
       "5487.0       73.0     27.0  129509.332935  101674.623260   27834.709675   \n",
       "7241.0        2.0      2.0   79221.200928   79221.200928       0.000000   \n",
       "6209.0      530.0    231.0  862261.121429  617340.153595  244920.967834   \n",
       "\n",
       "                                                  geometry  Comm_area  \n",
       "eFUA_ID                                                                \n",
       "5487.0   MULTIPOLYGON (((108.59694 -7.45682, 108.62703 ...       46.0  \n",
       "7241.0   MULTIPOLYGON (((140.42281 -6.65380, 140.41279 ...        0.0  \n",
       "6209.0   MULTIPOLYGON (((111.98999 -8.02495, 112.00003 ...      299.0  "
      ]
     },
     "execution_count": 5,
     "metadata": {},
     "output_type": "execute_result"
    }
   ],
   "source": [
    "cities_df.sample(3)"
   ]
  },
  {
   "cell_type": "code",
   "execution_count": 6,
   "id": "b484b4f6",
   "metadata": {},
   "outputs": [
    {
     "data": {
      "text/plain": [
       "<AxesSubplot:>"
      ]
     },
     "execution_count": 6,
     "metadata": {},
     "output_type": "execute_result"
    },
    {
     "data": {
      "image/png": "[encoded data removed]",
      "text/plain": [
       "<Figure size 432x288 with 1 Axes>"
      ]
     },
     "metadata": {
      "needs_background": "light"
     },
     "output_type": "display_data"
    }
   ],
   "source": [
    "#cities_df is gdf\n",
    "%matplotlib inline\n",
    "cities_df.plot()"
   ]
  },
  {
   "cell_type": "code",
   "execution_count": 7,
   "id": "1119a611",
   "metadata": {},
   "outputs": [
    {
     "name": "stdout",
     "output_type": "stream",
     "text": [
      "CPU times: user 39.8 s, sys: 25.4 s, total: 1min 5s\n",
      "Wall time: 1min 40s\n"
     ]
    }
   ],
   "source": [
    "%time gdps=pp.obtainGDP(\"Indonesia\")\n",
    "#takes time"
   ]
  },
  {
   "cell_type": "code",
   "execution_count": 8,
   "id": "909a1566",
   "metadata": {},
   "outputs": [],
   "source": [
    "#there 2 returns\n",
    "gdpDict,totGdpDict=gdps"
   ]
  },
  {
   "cell_type": "code",
   "execution_count": 9,
   "id": "a936e0c2",
   "metadata": {},
   "outputs": [
    {
     "data": {
      "text/plain": [
       "{4768.0:     raster_val                                           geometry\n",
       " 0     265088.0  POLYGON ((105.74167 -6.51667, 105.74167 -6.525...\n",
       " 1    4526032.0  POLYGON ((105.75000 -6.51667, 105.75000 -6.525...\n",
       " 2    5542267.0  POLYGON ((105.75833 -6.51667, 105.75833 -6.525...\n",
       " 3    3550938.0  POLYGON ((105.72500 -6.52500, 105.72500 -6.533...\n",
       " 4   23250332.0  POLYGON ((105.73333 -6.52500, 105.73333 -6.533...\n",
       " 5    6804464.0  POLYGON ((105.74167 -6.52500, 105.74167 -6.533...\n",
       " 6    4501591.0  POLYGON ((105.75000 -6.52500, 105.75000 -6.533...\n",
       " 7   13035710.0  POLYGON ((105.76667 -6.52500, 105.76667 -6.533...\n",
       " 8   25108274.0  POLYGON ((105.73333 -6.53333, 105.73333 -6.541...\n",
       " 9   15652170.0  POLYGON ((105.74167 -6.53333, 105.74167 -6.541...\n",
       " 10  23503032.0  POLYGON ((105.75833 -6.53333, 105.75833 -6.541...\n",
       " 11  49055284.0  POLYGON ((105.73333 -6.54167, 105.73333 -6.550...\n",
       " 12   9044970.0  POLYGON ((105.74167 -6.54167, 105.74167 -6.550...\n",
       " 13  11103312.0  POLYGON ((105.73333 -6.55000, 105.73333 -6.558...\n",
       " 14    104146.0  POLYGON ((105.75000 -6.55000, 105.75000 -6.558...\n",
       " 15    554445.0  POLYGON ((105.75833 -6.55833, 105.75833 -6.566...,\n",
       " 6773.0:    raster_val                                           geometry\n",
       " 0   1050533.0  POLYGON ((116.17500 -1.89167, 116.17500 -1.900...\n",
       " 1   7984406.0  POLYGON ((116.19167 -1.89167, 116.19167 -1.900...\n",
       " 2   4840339.0  POLYGON ((116.18333 -1.90000, 116.18333 -1.908...\n",
       " 3  18139002.0  POLYGON ((116.19167 -1.90000, 116.19167 -1.908...\n",
       " 4   2177117.0  POLYGON ((116.19167 -1.90833, 116.19167 -1.916...\n",
       " 5   3105317.0  POLYGON ((116.18333 -1.91667, 116.18333 -1.925...\n",
       " 6   1546766.0  POLYGON ((116.19167 -1.91667, 116.19167 -1.925...\n",
       " 7   2209633.0  POLYGON ((116.17500 -1.92500, 116.17500 -1.933...\n",
       " 8   1009335.0  POLYGON ((116.15833 -1.93333, 116.15833 -1.941...}"
      ]
     },
     "execution_count": 9,
     "metadata": {},
     "output_type": "execute_result"
    }
   ],
   "source": [
    "dict(list(gdpDict.items())[0:2])"
   ]
  },
  {
   "cell_type": "code",
   "execution_count": 10,
   "id": "bf030c26",
   "metadata": {},
   "outputs": [
    {
     "data": {
      "text/plain": [
       "{4768.0: 195602055.0,\n",
       " 6773.0: 42062448.0,\n",
       " 6818.0: 972283610.0,\n",
       " 3498.0: 1397346540.0}"
      ]
     },
     "execution_count": 10,
     "metadata": {},
     "output_type": "execute_result"
    }
   ],
   "source": [
    "dict(list(totGdpDict.items())[0:4])"
   ]
  },
  {
   "cell_type": "code",
   "execution_count": 11,
   "id": "71af974a",
   "metadata": {},
   "outputs": [
    {
     "data": {
      "text/plain": [
       "Text(0.5, 1.0, 'Garut')"
      ]
     },
     "execution_count": 11,
     "metadata": {},
     "output_type": "execute_result"
    },
    {
     "data": {
      "image/png": "[encoded data removed]",
      "text/plain": [
       "<Figure size 432x288 with 1 Axes>"
      ]
     },
     "metadata": {
      "needs_background": "light"
     },
     "output_type": "display_data"
    }
   ],
   "source": [
    "#let's take a look at gdp within a city\n",
    "city_id= cities_df.sample(1).index[-1] #random city id\n",
    "%matplotlib inline\n",
    "ax=gpd.GeoSeries(cities_df.loc[city_id][\"geometry\"]).plot(color=\"w\", edgecolor=\"k\", alpha=0.6)\n",
    "gdpDict[city_id].plot(\"raster_val\",  scheme='quantiles', ax=ax)\n",
    "plt.title(cities_df.loc[city_id][\"eFUA_name\"])"
   ]
  },
  {
   "cell_type": "code",
   "execution_count": null,
   "id": "4d253586",
   "metadata": {},
   "outputs": [
    {
     "name": "stdout",
     "output_type": "stream",
     "text": [
      "getting ADM_0 file....\n"
     ]
    }
   ],
   "source": [
    "#get country's boundary from gdam for plotting  (takes time) \n",
    "%time country_all=pp.obtainCountryBoundary(\"IDN\", \"ADM_0\")"
   ]
  },
  {
   "cell_type": "code",
   "execution_count": null,
   "id": "4dd61508",
   "metadata": {},
   "outputs": [],
   "source": [
    "#let's make a big map\n",
    "%matplotlib inline\n",
    "ax=country_all.plot(color=\"w\", edgecolor=\"k\", alpha=0.6)\n",
    "for k, v in totGdpDict.items():\n",
    "    cities_df.at[k,\"gdp_tot\"]=v\n",
    "cities_df[\"geometry\"]=cities_df.centroid\n",
    "cities_df.plot(\"gdp_tot\",scheme=\"quantiles\",alpha=0.4,ax=ax)"
   ]
  },
  {
   "cell_type": "code",
   "execution_count": null,
   "id": "fc04df25",
   "metadata": {},
   "outputs": [],
   "source": [
    "#Done"
   ]
  }
 ],
 "metadata": {
  "kernelspec": {
   "display_name": "Python 3",
   "language": "python",
   "name": "python3"
  },
  "language_info": {
   "codemirror_mode": {
    "name": "ipython",
    "version": 3
   },
   "file_extension": ".py",
   "mimetype": "text/x-python",
   "name": "python",
   "nbconvert_exporter": "python",
   "pygments_lexer": "ipython3",
   "version": "3.9.6"
  }
 },
 "nbformat": 4,
 "nbformat_minor": 5
}
