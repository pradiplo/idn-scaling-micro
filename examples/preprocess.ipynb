{
 "cells": [
  {
   "cell_type": "code",
   "execution_count": 1,
   "id": "6e6c28d7",
   "metadata": {},
   "outputs": [],
   "source": [
    "from preprocess import preProcess as pp\n",
    "import geopandas as gpd\n",
    "import matplotlib.pyplot as plt\n",
    "import warnings\n",
    "warnings.simplefilter(action='ignore')"
   ]
  },
  {
   "cell_type": "code",
   "execution_count": 2,
   "id": "66ea84cc",
   "metadata": {},
   "outputs": [
    {
     "name": "stdout",
     "output_type": "stream",
     "text": [
      "CPU times: user 780 ms, sys: 90.5 ms, total: 871 ms\n",
      "Wall time: 1.18 s\n"
     ]
    }
   ],
   "source": [
    "#obtain cities \n",
    "%time cities=pp.obtainCityDf(\"Indonesia\")"
   ]
  },
  {
   "cell_type": "code",
   "execution_count": 3,
   "id": "0ef1feba",
   "metadata": {},
   "outputs": [],
   "source": [
    "cities_df, popDict, areaDict, aUCDict, aComDict=cities"
   ]
  },
  {
   "cell_type": "code",
   "execution_count": 4,
   "id": "da734f66",
   "metadata": {},
   "outputs": [
    {
     "data": {
      "text/plain": [
       "{4768.0: 56036.54037094116,\n",
       " 6773.0: 56090.59964752197,\n",
       " 6818.0: 56395.4094543457,\n",
       " 3498.0: 58665.77061462402,\n",
       " 7047.0: 63455.735834121704}"
      ]
     },
     "execution_count": 4,
     "metadata": {},
     "output_type": "execute_result"
    }
   ],
   "source": [
    "dict(list(popDict.items())[0:5])"
   ]
  },
  {
   "cell_type": "code",
   "execution_count": 5,
   "id": "c6cae29b",
   "metadata": {},
   "outputs": [
    {
     "data": {
      "text/html": [
       "<div>\n",
       "<style scoped>\n",
       "    .dataframe tbody tr th:only-of-type {\n",
       "        vertical-align: middle;\n",
       "    }\n",
       "\n",
       "    .dataframe tbody tr th {\n",
       "        vertical-align: top;\n",
       "    }\n",
       "\n",
       "    .dataframe thead th {\n",
       "        text-align: right;\n",
       "    }\n",
       "</style>\n",
       "<table border=\"1\" class=\"dataframe\">\n",
       "  <thead>\n",
       "    <tr style=\"text-align: right;\">\n",
       "      <th></th>\n",
       "      <th>eFUA_ID</th>\n",
       "      <th>UC_num</th>\n",
       "      <th>UC_IDs</th>\n",
       "      <th>eFUA_name</th>\n",
       "      <th>Commuting</th>\n",
       "      <th>Cntry_ISO</th>\n",
       "      <th>Cntry_name</th>\n",
       "      <th>FUA_area</th>\n",
       "      <th>UC_area</th>\n",
       "      <th>FUA_p_2015</th>\n",
       "      <th>UC_p_2015</th>\n",
       "      <th>Com_p_2015</th>\n",
       "      <th>geometry</th>\n",
       "      <th>Comm_area</th>\n",
       "    </tr>\n",
       "    <tr>\n",
       "      <th>eFUA_ID</th>\n",
       "      <th></th>\n",
       "      <th></th>\n",
       "      <th></th>\n",
       "      <th></th>\n",
       "      <th></th>\n",
       "      <th></th>\n",
       "      <th></th>\n",
       "      <th></th>\n",
       "      <th></th>\n",
       "      <th></th>\n",
       "      <th></th>\n",
       "      <th></th>\n",
       "      <th></th>\n",
       "      <th></th>\n",
       "    </tr>\n",
       "  </thead>\n",
       "  <tbody>\n",
       "    <tr>\n",
       "      <th>3204.0</th>\n",
       "      <td>3204.0</td>\n",
       "      <td>1.0</td>\n",
       "      <td>11145</td>\n",
       "      <td>Semurup</td>\n",
       "      <td>1.0</td>\n",
       "      <td>IDN</td>\n",
       "      <td>Indonesia</td>\n",
       "      <td>63.0</td>\n",
       "      <td>21.0</td>\n",
       "      <td>117141.546623</td>\n",
       "      <td>56224.422516</td>\n",
       "      <td>60917.124107</td>\n",
       "      <td>MULTIPOLYGON (((101.36078 -1.95736, 101.37076 ...</td>\n",
       "      <td>42.0</td>\n",
       "    </tr>\n",
       "    <tr>\n",
       "      <th>4262.0</th>\n",
       "      <td>4262.0</td>\n",
       "      <td>1.0</td>\n",
       "      <td>11585</td>\n",
       "      <td>Prabumulih</td>\n",
       "      <td>1.0</td>\n",
       "      <td>IDN</td>\n",
       "      <td>Indonesia</td>\n",
       "      <td>79.0</td>\n",
       "      <td>25.0</td>\n",
       "      <td>144041.131489</td>\n",
       "      <td>119078.046631</td>\n",
       "      <td>24963.084858</td>\n",
       "      <td>MULTIPOLYGON (((104.30996 -3.38140, 104.29997 ...</td>\n",
       "      <td>54.0</td>\n",
       "    </tr>\n",
       "    <tr>\n",
       "      <th>7138.0</th>\n",
       "      <td>7138.0</td>\n",
       "      <td>1.0</td>\n",
       "      <td>13028</td>\n",
       "      <td>Ternate</td>\n",
       "      <td>1.0</td>\n",
       "      <td>IDN</td>\n",
       "      <td>Indonesia</td>\n",
       "      <td>64.0</td>\n",
       "      <td>28.0</td>\n",
       "      <td>190406.817505</td>\n",
       "      <td>183062.143173</td>\n",
       "      <td>7344.674332</td>\n",
       "      <td>MULTIPOLYGON (((127.39331 0.76834, 127.38333 0...</td>\n",
       "      <td>36.0</td>\n",
       "    </tr>\n",
       "  </tbody>\n",
       "</table>\n",
       "</div>"
      ],
      "text/plain": [
       "         eFUA_ID  UC_num UC_IDs   eFUA_name  Commuting Cntry_ISO Cntry_name  \\\n",
       "eFUA_ID                                                                       \n",
       "3204.0    3204.0     1.0  11145     Semurup        1.0       IDN  Indonesia   \n",
       "4262.0    4262.0     1.0  11585  Prabumulih        1.0       IDN  Indonesia   \n",
       "7138.0    7138.0     1.0  13028     Ternate        1.0       IDN  Indonesia   \n",
       "\n",
       "         FUA_area  UC_area     FUA_p_2015      UC_p_2015    Com_p_2015  \\\n",
       "eFUA_ID                                                                  \n",
       "3204.0       63.0     21.0  117141.546623   56224.422516  60917.124107   \n",
       "4262.0       79.0     25.0  144041.131489  119078.046631  24963.084858   \n",
       "7138.0       64.0     28.0  190406.817505  183062.143173   7344.674332   \n",
       "\n",
       "                                                  geometry  Comm_area  \n",
       "eFUA_ID                                                                \n",
       "3204.0   MULTIPOLYGON (((101.36078 -1.95736, 101.37076 ...       42.0  \n",
       "4262.0   MULTIPOLYGON (((104.30996 -3.38140, 104.29997 ...       54.0  \n",
       "7138.0   MULTIPOLYGON (((127.39331 0.76834, 127.38333 0...       36.0  "
      ]
     },
     "execution_count": 5,
     "metadata": {},
     "output_type": "execute_result"
    }
   ],
   "source": [
    "cities_df.sample(3)"
   ]
  },
  {
   "cell_type": "code",
   "execution_count": 6,
   "id": "b484b4f6",
   "metadata": {},
   "outputs": [
    {
     "data": {
      "text/plain": [
       "<AxesSubplot:>"
      ]
     },
     "execution_count": 6,
     "metadata": {},
     "output_type": "execute_result"
    },
    {
     "data": {
      "image/png": "[encoded data removed]",
      "text/plain": [
       "<Figure size 432x288 with 1 Axes>"
      ]
     },
     "metadata": {
      "needs_background": "light"
     },
     "output_type": "display_data"
    }
   ],
   "source": [
    "#cities_df is gdf\n",
    "%matplotlib inline\n",
    "cities_df.plot()"
   ]
  },
  {
   "cell_type": "code",
   "execution_count": 7,
   "id": "1119a611",
   "metadata": {},
   "outputs": [
    {
     "name": "stdout",
     "output_type": "stream",
     "text": [
      "CPU times: user 39.2 s, sys: 25.5 s, total: 1min 4s\n",
      "Wall time: 1min 37s\n"
     ]
    }
   ],
   "source": [
    "%time gdps=pp.obtainGDP(\"Indonesia\")\n",
    "#takes time"
   ]
  },
  {
   "cell_type": "code",
   "execution_count": 8,
   "id": "909a1566",
   "metadata": {},
   "outputs": [],
   "source": [
    "#there 2 returns\n",
    "gdpDict,totGdpDict=gdps"
   ]
  },
  {
   "cell_type": "code",
   "execution_count": 9,
   "id": "a936e0c2",
   "metadata": {},
   "outputs": [
    {
     "data": {
      "text/plain": [
       "{4768.0:     raster_val                                           geometry\n",
       " 0     265088.0  POLYGON ((105.74167 -6.51667, 105.74167 -6.525...\n",
       " 1    4526032.0  POLYGON ((105.75000 -6.51667, 105.75000 -6.525...\n",
       " 2    5542267.0  POLYGON ((105.75833 -6.51667, 105.75833 -6.525...\n",
       " 3    3550938.0  POLYGON ((105.72500 -6.52500, 105.72500 -6.533...\n",
       " 4   23250332.0  POLYGON ((105.73333 -6.52500, 105.73333 -6.533...\n",
       " 5    6804464.0  POLYGON ((105.74167 -6.52500, 105.74167 -6.533...\n",
       " 6    4501591.0  POLYGON ((105.75000 -6.52500, 105.75000 -6.533...\n",
       " 7   13035710.0  POLYGON ((105.76667 -6.52500, 105.76667 -6.533...\n",
       " 8   25108274.0  POLYGON ((105.73333 -6.53333, 105.73333 -6.541...\n",
       " 9   15652170.0  POLYGON ((105.74167 -6.53333, 105.74167 -6.541...\n",
       " 10  23503032.0  POLYGON ((105.75833 -6.53333, 105.75833 -6.541...\n",
       " 11  49055284.0  POLYGON ((105.73333 -6.54167, 105.73333 -6.550...\n",
       " 12   9044970.0  POLYGON ((105.74167 -6.54167, 105.74167 -6.550...\n",
       " 13  11103312.0  POLYGON ((105.73333 -6.55000, 105.73333 -6.558...\n",
       " 14    104146.0  POLYGON ((105.75000 -6.55000, 105.75000 -6.558...\n",
       " 15    554445.0  POLYGON ((105.75833 -6.55833, 105.75833 -6.566...,\n",
       " 6773.0:    raster_val                                           geometry\n",
       " 0   1050533.0  POLYGON ((116.17500 -1.89167, 116.17500 -1.900...\n",
       " 1   7984406.0  POLYGON ((116.19167 -1.89167, 116.19167 -1.900...\n",
       " 2   4840339.0  POLYGON ((116.18333 -1.90000, 116.18333 -1.908...\n",
       " 3  18139002.0  POLYGON ((116.19167 -1.90000, 116.19167 -1.908...\n",
       " 4   2177117.0  POLYGON ((116.19167 -1.90833, 116.19167 -1.916...\n",
       " 5   3105317.0  POLYGON ((116.18333 -1.91667, 116.18333 -1.925...\n",
       " 6   1546766.0  POLYGON ((116.19167 -1.91667, 116.19167 -1.925...\n",
       " 7   2209633.0  POLYGON ((116.17500 -1.92500, 116.17500 -1.933...\n",
       " 8   1009335.0  POLYGON ((116.15833 -1.93333, 116.15833 -1.941...}"
      ]
     },
     "execution_count": 9,
     "metadata": {},
     "output_type": "execute_result"
    }
   ],
   "source": [
    "dict(list(gdpDict.items())[0:2])"
   ]
  },
  {
   "cell_type": "code",
   "execution_count": 10,
   "id": "bf030c26",
   "metadata": {},
   "outputs": [
    {
     "data": {
      "text/plain": [
       "{4768.0: 195602055.0,\n",
       " 6773.0: 42062448.0,\n",
       " 6818.0: 972283610.0,\n",
       " 3498.0: 1397346540.0}"
      ]
     },
     "execution_count": 10,
     "metadata": {},
     "output_type": "execute_result"
    }
   ],
   "source": [
    "dict(list(totGdpDict.items())[0:4])"
   ]
  },
  {
   "cell_type": "code",
   "execution_count": 11,
   "id": "71af974a",
   "metadata": {},
   "outputs": [
    {
     "data": {
      "text/plain": [
       "Text(0.5, 1.0, 'Mataram')"
      ]
     },
     "execution_count": 11,
     "metadata": {},
     "output_type": "execute_result"
    },
    {
     "data": {
      "image/png": "[encoded data removed]",
      "text/plain": [
       "<Figure size 432x288 with 1 Axes>"
      ]
     },
     "metadata": {
      "needs_background": "light"
     },
     "output_type": "display_data"
    }
   ],
   "source": [
    "#let's take a look at gdp within a city\n",
    "city_id= cities_df.sample(1).index[-1] #random city id\n",
    "%matplotlib inline\n",
    "ax=gpd.GeoSeries(cities_df.loc[city_id][\"geometry\"]).plot(color=\"w\", edgecolor=\"k\", alpha=0.6)\n",
    "gdpDict[city_id].plot(\"raster_val\",  scheme='quantiles', ax=ax)\n",
    "plt.title(cities_df.loc[city_id][\"eFUA_name\"])"
   ]
  },
  {
   "cell_type": "code",
   "execution_count": 12,
   "id": "4d253586",
   "metadata": {},
   "outputs": [
    {
     "name": "stdout",
     "output_type": "stream",
     "text": [
      "getting ADM_0 file....\n",
      "CPU times: user 2.62 s, sys: 2.95 s, total: 5.57 s\n",
      "Wall time: 4min 32s\n"
     ]
    }
   ],
   "source": [
    "#get country's boundary from gdam for plotting  (takes time) \n",
    "%time country_all=pp.obtainCountryBoundary(\"IDN\", \"ADM_0\")"
   ]
  },
  {
   "cell_type": "code",
   "execution_count": 13,
   "id": "4dd61508",
   "metadata": {},
   "outputs": [
    {
     "data": {
      "text/plain": [
       "<AxesSubplot:>"
      ]
     },
     "execution_count": 13,
     "metadata": {},
     "output_type": "execute_result"
    },
    {
     "data": {
      "image/png": "[encoded data removed]",
      "text/plain": [
       "<Figure size 432x288 with 1 Axes>"
      ]
     },
     "metadata": {
      "needs_background": "light"
     },
     "output_type": "display_data"
    }
   ],
   "source": [
    "#let's make a big map\n",
    "%matplotlib inline\n",
    "ax=country_all.plot(color=\"w\", edgecolor=\"k\", alpha=0.6)\n",
    "for k, v in totGdpDict.items():\n",
    "    cities_df.at[k,\"gdp_tot\"]=v\n",
    "cities_df[\"geometry\"]=cities_df.centroid\n",
    "cities_df.plot(\"gdp_tot\",scheme=\"quantiles\",alpha=0.4,ax=ax)"
   ]
  },
  {
   "cell_type": "code",
   "execution_count": 14,
   "id": "fc04df25",
   "metadata": {},
   "outputs": [],
   "source": [
    "#Done"
   ]
  }
 ],
 "metadata": {
  "kernelspec": {
   "display_name": "Python 3",
   "language": "python",
   "name": "python3"
  },
  "language_info": {
   "codemirror_mode": {
    "name": "ipython",
    "version": 3
   },
   "file_extension": ".py",
   "mimetype": "text/x-python",
   "name": "python",
   "nbconvert_exporter": "python",
   "pygments_lexer": "ipython3",
   "version": "3.9.6"
  }
 },
 "nbformat": 4,
 "nbformat_minor": 5
}
